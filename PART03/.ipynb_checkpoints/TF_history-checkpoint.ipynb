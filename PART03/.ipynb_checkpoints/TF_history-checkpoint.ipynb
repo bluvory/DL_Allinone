{
 "cells": [
  {
   "cell_type": "code",
   "execution_count": 1,
   "metadata": {},
   "outputs": [
    {
     "name": "stdout",
     "output_type": "stream",
     "text": [
      "1 Physical GPUs, 1 Logical GPUs\n"
     ]
    }
   ],
   "source": [
    "import FailtogetConv_error as fe\n",
    "fe.fail_to_get_conv()"
   ]
  },
  {
   "cell_type": "code",
   "execution_count": 2,
   "metadata": {},
   "outputs": [],
   "source": [
    "import os\n",
    "from glob import glob\n",
    "from datetime import datetime\n",
    "\n",
    "import numpy as np\n",
    "import tensorflow as tf\n",
    "from tensorflow.keras import datasets\n",
    "from tensorflow.keras import layers\n",
    "import matplotlib.pyplot as plt\n",
    "\n",
    "%matplotlib inline\n",
    "%load_ext tensorboard"
   ]
  },
  {
   "cell_type": "code",
   "execution_count": 3,
   "metadata": {},
   "outputs": [],
   "source": [
    "num_epochs = 50\n",
    "batch_size = 32\n",
    "\n",
    "learning_rate = 0.001\n",
    "\n",
    "dropout_rate = 0.5\n",
    "\n",
    "input_shape = (32, 32, 3)\n",
    "num_classes = 10"
   ]
  },
  {
   "cell_type": "code",
   "execution_count": 4,
   "metadata": {},
   "outputs": [],
   "source": [
    "inputs = layers.Input(input_shape)\n",
    "\n",
    "net = layers.Conv2D(32, (3, 3), padding='SAME')(inputs)\n",
    "net = layers.Activation('relu')(net)\n",
    "net = layers.Conv2D(32, (3, 3), padding='SAME')(net)\n",
    "net = layers.Activation('relu')(net)\n",
    "net = layers.MaxPooling2D(pool_size=(2, 2))(net)\n",
    "net = layers.Dropout(dropout_rate)(net)\n",
    "\n",
    "net = layers.Conv2D(64, (3, 3), padding='SAME')(net)\n",
    "net = layers.Activation('relu')(net)\n",
    "net = layers.Conv2D(64, (3, 3), padding='SAME')(net)\n",
    "net = layers.Activation('relu')(net)\n",
    "net = layers.MaxPooling2D(pool_size=(2, 2))(net)\n",
    "net = layers.Dropout(dropout_rate)(net)\n",
    "\n",
    "net = layers.Flatten()(net)\n",
    "net = layers.Dense(512)(net)\n",
    "net = layers.Activation('relu')(net)\n",
    "net = layers.Dropout(dropout_rate)(net)\n",
    "net = layers.Dense(num_classes)(net)\n",
    "net = layers.Activation('softmax')(net)\n",
    "\n",
    "model = tf.keras.Model(inputs=inputs, outputs=net, name='Basic_CNN')"
   ]
  },
  {
   "cell_type": "code",
   "execution_count": 5,
   "metadata": {},
   "outputs": [],
   "source": [
    "model.compile(optimizer=tf.keras.optimizers.Adam(learning_rate),\n",
    "              loss='sparse_categorical_crossentropy', \n",
    "              metrics=['accuracy'])"
   ]
  },
  {
   "cell_type": "code",
   "execution_count": 6,
   "metadata": {},
   "outputs": [
    {
     "data": {
      "text/plain": [
       "['labels.txt', 'test', 'train']"
      ]
     },
     "execution_count": 6,
     "metadata": {},
     "output_type": "execute_result"
    }
   ],
   "source": [
    "os.listdir('../dataset/cifar/')"
   ]
  },
  {
   "cell_type": "code",
   "execution_count": 7,
   "metadata": {},
   "outputs": [
    {
     "data": {
      "text/plain": [
       "(1000, 1000)"
      ]
     },
     "execution_count": 7,
     "metadata": {},
     "output_type": "execute_result"
    }
   ],
   "source": [
    "train_paths = glob('../dataset/cifar/train/*.png')[:1000]\n",
    "test_paths = glob('../dataset/cifar/test/*.png')[:1000]\n",
    "\n",
    "len(train_paths), len(test_paths)"
   ]
  },
  {
   "cell_type": "code",
   "execution_count": 8,
   "metadata": {},
   "outputs": [],
   "source": [
    "def get_class_name(path):\n",
    "    return path.split('_')[-1].replace('.png', '')"
   ]
  },
  {
   "cell_type": "code",
   "execution_count": 9,
   "metadata": {},
   "outputs": [],
   "source": [
    "train_labels = [get_class_name(path) for path in train_paths]\n",
    "class_names = np.unique(train_labels)"
   ]
  },
  {
   "cell_type": "code",
   "execution_count": 10,
   "metadata": {},
   "outputs": [],
   "source": [
    "def get_label(path):\n",
    "    fname = tf.strings.split(path, '_')[-1]\n",
    "    lbl_name = tf.strings.regex_replace(fname, '.png', '')\n",
    "    onehot = tf.cast(lbl_name == class_names, tf.uint8)\n",
    "    return tf.argmax(onehot)  # 이번에는 onehot이 아닌 label 번호로"
   ]
  },
  {
   "cell_type": "code",
   "execution_count": 11,
   "metadata": {},
   "outputs": [],
   "source": [
    "def load_image_label(path):\n",
    "    gfile = tf.io.read_file(path)\n",
    "    image = tf.io.decode_image(gfile)\n",
    "    \n",
    "    image = tf.cast(image, tf.float32) / 255.  # rescale\n",
    "    \n",
    "    label = get_label(path)\n",
    "    return image, label"
   ]
  },
  {
   "cell_type": "code",
   "execution_count": 12,
   "metadata": {},
   "outputs": [],
   "source": [
    "def image_preprocess(image, label):\n",
    "    image = tf.image.random_flip_up_down(image)\n",
    "    image = tf.image.random_flip_left_right(image)\n",
    "    return image, label"
   ]
  },
  {
   "cell_type": "code",
   "execution_count": 13,
   "metadata": {},
   "outputs": [],
   "source": [
    "AUTOTUNE = tf.data.experimental.AUTOTUNE"
   ]
  },
  {
   "cell_type": "code",
   "execution_count": 14,
   "metadata": {},
   "outputs": [],
   "source": [
    "train_dataset = tf.data.Dataset.from_tensor_slices(train_paths)\n",
    "train_dataset = train_dataset.map(load_image_label, num_parallel_calls=AUTOTUNE)\n",
    "train_dataset = train_dataset.map(image_preprocess, num_parallel_calls=AUTOTUNE)\n",
    "train_dataset = train_dataset.batch(batch_size)\n",
    "train_dataset = train_dataset.shuffle(buffer_size=len(train_paths))\n",
    "train_dataset = train_dataset.repeat()"
   ]
  },
  {
   "cell_type": "code",
   "execution_count": 15,
   "metadata": {},
   "outputs": [],
   "source": [
    "test_dataset = tf.data.Dataset.from_tensor_slices(test_paths)\n",
    "test_dataset = test_dataset.map(load_image_label, num_parallel_calls=AUTOTUNE)\n",
    "test_dataset = test_dataset.batch(batch_size)\n",
    "test_dataset = test_dataset.repeat()"
   ]
  },
  {
   "cell_type": "code",
   "execution_count": 16,
   "metadata": {},
   "outputs": [
    {
     "name": "stdout",
     "output_type": "stream",
     "text": [
      "WARNING:tensorflow:From <ipython-input-16-ace97a0ab232>:9: Model.fit_generator (from tensorflow.python.keras.engine.training) is deprecated and will be removed in a future version.\n",
      "Instructions for updating:\n",
      "Please use Model.fit, which supports generators.\n",
      "Epoch 1/50\n",
      "31/31 [==============================] - 1s 18ms/step - loss: 2.3115 - accuracy: 0.0930 - val_loss: 2.2953 - val_accuracy: 0.1129\n",
      "Epoch 2/50\n",
      "31/31 [==============================] - 0s 10ms/step - loss: 2.2678 - accuracy: 0.1229 - val_loss: 2.2699 - val_accuracy: 0.1200\n",
      "Epoch 3/50\n",
      "31/31 [==============================] - 0s 10ms/step - loss: 2.2398 - accuracy: 0.1612 - val_loss: 2.1908 - val_accuracy: 0.1855\n",
      "Epoch 4/50\n",
      "31/31 [==============================] - 0s 10ms/step - loss: 2.1438 - accuracy: 0.1963 - val_loss: 2.0977 - val_accuracy: 0.2167\n",
      "Epoch 5/50\n",
      "31/31 [==============================] - 0s 12ms/step - loss: 2.0897 - accuracy: 0.2128 - val_loss: 1.9799 - val_accuracy: 0.2601\n",
      "Epoch 6/50\n",
      "31/31 [==============================] - 0s 10ms/step - loss: 1.9949 - accuracy: 0.2521 - val_loss: 1.9240 - val_accuracy: 0.3085\n",
      "Epoch 7/50\n",
      "31/31 [==============================] - 0s 10ms/step - loss: 1.9614 - accuracy: 0.2923 - val_loss: 1.9092 - val_accuracy: 0.3135\n",
      "Epoch 8/50\n",
      "31/31 [==============================] - 0s 10ms/step - loss: 1.9061 - accuracy: 0.2754 - val_loss: 1.8708 - val_accuracy: 0.2913\n",
      "Epoch 9/50\n",
      "31/31 [==============================] - 0s 11ms/step - loss: 1.9009 - accuracy: 0.2686 - val_loss: 1.8392 - val_accuracy: 0.3256\n",
      "Epoch 10/50\n",
      "31/31 [==============================] - 0s 10ms/step - loss: 1.8309 - accuracy: 0.3145 - val_loss: 1.8751 - val_accuracy: 0.3044\n",
      "Epoch 11/50\n",
      "31/31 [==============================] - 0s 10ms/step - loss: 1.8357 - accuracy: 0.3125 - val_loss: 1.7917 - val_accuracy: 0.3347\n",
      "Epoch 12/50\n",
      "31/31 [==============================] - 0s 12ms/step - loss: 1.7601 - accuracy: 0.3357 - val_loss: 1.7580 - val_accuracy: 0.3639\n",
      "Epoch 13/50\n",
      "31/31 [==============================] - 0s 10ms/step - loss: 1.7707 - accuracy: 0.3347 - val_loss: 1.8342 - val_accuracy: 0.3226\n",
      "Epoch 14/50\n",
      "31/31 [==============================] - 0s 10ms/step - loss: 1.7104 - accuracy: 0.3719 - val_loss: 1.7842 - val_accuracy: 0.3458\n",
      "Epoch 15/50\n",
      "31/31 [==============================] - 0s 10ms/step - loss: 1.7416 - accuracy: 0.3528 - val_loss: 1.7821 - val_accuracy: 0.3438\n",
      "Epoch 16/50\n",
      "31/31 [==============================] - 0s 12ms/step - loss: 1.6775 - accuracy: 0.3636 - val_loss: 1.6858 - val_accuracy: 0.4002\n",
      "Epoch 17/50\n",
      "31/31 [==============================] - 0s 10ms/step - loss: 1.6514 - accuracy: 0.3856 - val_loss: 1.6755 - val_accuracy: 0.3760\n",
      "Epoch 18/50\n",
      "31/31 [==============================] - 0s 10ms/step - loss: 1.6909 - accuracy: 0.3821 - val_loss: 1.6969 - val_accuracy: 0.3790\n",
      "Epoch 19/50\n",
      "31/31 [==============================] - 0s 11ms/step - loss: 1.5980 - accuracy: 0.4280 - val_loss: 1.7022 - val_accuracy: 0.3881\n",
      "Epoch 20/50\n",
      "31/31 [==============================] - 0s 10ms/step - loss: 1.6151 - accuracy: 0.4163 - val_loss: 1.7104 - val_accuracy: 0.3720\n",
      "Epoch 21/50\n",
      "31/31 [==============================] - 0s 10ms/step - loss: 1.5592 - accuracy: 0.4339 - val_loss: 1.6414 - val_accuracy: 0.3952\n",
      "Epoch 22/50\n",
      "31/31 [==============================] - 0s 10ms/step - loss: 1.4965 - accuracy: 0.4577 - val_loss: 1.6414 - val_accuracy: 0.4315\n",
      "Epoch 23/50\n",
      "31/31 [==============================] - 0s 12ms/step - loss: 1.5136 - accuracy: 0.4449 - val_loss: 1.6297 - val_accuracy: 0.4123\n",
      "Epoch 24/50\n",
      "31/31 [==============================] - 0s 10ms/step - loss: 1.4627 - accuracy: 0.4618 - val_loss: 1.6547 - val_accuracy: 0.4194\n",
      "Epoch 25/50\n",
      "31/31 [==============================] - 0s 9ms/step - loss: 1.4811 - accuracy: 0.4627 - val_loss: 1.5994 - val_accuracy: 0.4395\n",
      "Epoch 26/50\n",
      "31/31 [==============================] - 0s 10ms/step - loss: 1.4449 - accuracy: 0.4783 - val_loss: 1.6347 - val_accuracy: 0.4153\n",
      "Epoch 27/50\n",
      "31/31 [==============================] - 0s 10ms/step - loss: 1.4039 - accuracy: 0.4773 - val_loss: 1.7005 - val_accuracy: 0.4073\n",
      "Epoch 28/50\n",
      "31/31 [==============================] - 0s 11ms/step - loss: 1.4184 - accuracy: 0.4814 - val_loss: 1.6538 - val_accuracy: 0.4012\n",
      "Epoch 29/50\n",
      "31/31 [==============================] - 0s 10ms/step - loss: 1.3894 - accuracy: 0.4959 - val_loss: 1.6108 - val_accuracy: 0.4304\n",
      "Epoch 30/50\n",
      "31/31 [==============================] - 0s 10ms/step - loss: 1.4368 - accuracy: 0.4762 - val_loss: 1.6309 - val_accuracy: 0.4123\n",
      "Epoch 31/50\n",
      "31/31 [==============================] - 0s 11ms/step - loss: 1.3578 - accuracy: 0.4989 - val_loss: 1.6181 - val_accuracy: 0.4153\n",
      "Epoch 32/50\n",
      "31/31 [==============================] - 0s 10ms/step - loss: 1.3406 - accuracy: 0.5232 - val_loss: 1.6609 - val_accuracy: 0.4163\n",
      "Epoch 33/50\n",
      "31/31 [==============================] - 0s 12ms/step - loss: 1.2632 - accuracy: 0.5486 - val_loss: 1.5471 - val_accuracy: 0.4506\n",
      "Epoch 34/50\n",
      "31/31 [==============================] - 0s 10ms/step - loss: 1.2447 - accuracy: 0.5506 - val_loss: 1.5474 - val_accuracy: 0.4657\n",
      "Epoch 35/50\n",
      "31/31 [==============================] - 0s 10ms/step - loss: 1.2749 - accuracy: 0.5434 - val_loss: 1.7027 - val_accuracy: 0.4032\n",
      "Epoch 36/50\n",
      "31/31 [==============================] - 0s 10ms/step - loss: 1.3187 - accuracy: 0.5196 - val_loss: 1.5328 - val_accuracy: 0.4617\n",
      "Epoch 37/50\n",
      "31/31 [==============================] - 0s 11ms/step - loss: 1.1806 - accuracy: 0.5671 - val_loss: 1.5592 - val_accuracy: 0.4597\n",
      "Epoch 38/50\n",
      "31/31 [==============================] - 0s 10ms/step - loss: 1.2198 - accuracy: 0.5579 - val_loss: 1.5548 - val_accuracy: 0.4617\n",
      "Epoch 39/50\n",
      "31/31 [==============================] - 0s 10ms/step - loss: 1.1988 - accuracy: 0.5837 - val_loss: 1.5835 - val_accuracy: 0.4688\n",
      "Epoch 40/50\n",
      "31/31 [==============================] - 0s 11ms/step - loss: 1.1693 - accuracy: 0.5909 - val_loss: 1.6627 - val_accuracy: 0.4516\n",
      "Epoch 41/50\n",
      "31/31 [==============================] - 0s 11ms/step - loss: 1.1857 - accuracy: 0.5766 - val_loss: 1.6445 - val_accuracy: 0.4345\n",
      "Epoch 42/50\n",
      "31/31 [==============================] - 0s 11ms/step - loss: 1.1139 - accuracy: 0.6081 - val_loss: 1.5873 - val_accuracy: 0.4556\n",
      "Epoch 43/50\n",
      "31/31 [==============================] - 0s 10ms/step - loss: 1.1124 - accuracy: 0.6085 - val_loss: 1.5886 - val_accuracy: 0.4546\n",
      "Epoch 44/50\n",
      "31/31 [==============================] - 0s 10ms/step - loss: 1.1313 - accuracy: 0.6038 - val_loss: 1.6239 - val_accuracy: 0.4778\n",
      "Epoch 45/50\n",
      "31/31 [==============================] - 0s 12ms/step - loss: 1.0783 - accuracy: 0.6198 - val_loss: 1.5919 - val_accuracy: 0.4657\n",
      "Epoch 46/50\n",
      "31/31 [==============================] - 0s 9ms/step - loss: 1.0979 - accuracy: 0.6198 - val_loss: 1.6181 - val_accuracy: 0.4637\n",
      "Epoch 47/50\n",
      "31/31 [==============================] - 0s 10ms/step - loss: 1.0331 - accuracy: 0.6345 - val_loss: 1.7215 - val_accuracy: 0.4577\n",
      "Epoch 48/50\n",
      "31/31 [==============================] - 0s 12ms/step - loss: 1.0072 - accuracy: 0.6436 - val_loss: 1.6748 - val_accuracy: 0.4456\n",
      "Epoch 49/50\n",
      "31/31 [==============================] - 0s 10ms/step - loss: 1.0735 - accuracy: 0.6220 - val_loss: 1.6097 - val_accuracy: 0.4637\n",
      "Epoch 50/50\n",
      "31/31 [==============================] - 0s 10ms/step - loss: 0.9924 - accuracy: 0.6405 - val_loss: 1.5850 - val_accuracy: 0.4808\n"
     ]
    }
   ],
   "source": [
    "steps_per_epoch = len(train_paths) // batch_size\n",
    "validation_steps = len(test_paths) // batch_size\n",
    "\n",
    "history = model.fit_generator(\n",
    "    train_dataset,\n",
    "    steps_per_epoch=steps_per_epoch,\n",
    "    validation_data=test_dataset,\n",
    "    validation_steps=validation_steps,\n",
    "    epochs=num_epochs\n",
    ")"
   ]
  },
  {
   "cell_type": "code",
   "execution_count": 17,
   "metadata": {},
   "outputs": [
    {
     "data": {
      "text/plain": [
       "dict_keys(['loss', 'accuracy', 'val_loss', 'val_accuracy'])"
      ]
     },
     "execution_count": 17,
     "metadata": {},
     "output_type": "execute_result"
    }
   ],
   "source": [
    "history.history.keys()"
   ]
  },
  {
   "cell_type": "code",
   "execution_count": 18,
   "metadata": {},
   "outputs": [
    {
     "data": {
      "text/plain": [
       "{'verbose': 1, 'epochs': 50, 'steps': 31}"
      ]
     },
     "execution_count": 18,
     "metadata": {},
     "output_type": "execute_result"
    }
   ],
   "source": [
    "history.params"
   ]
  },
  {
   "cell_type": "code",
   "execution_count": 19,
   "metadata": {},
   "outputs": [
    {
     "data": {
      "image/png": "[encoded data removed]",
      "text/plain": [
       "<Figure size 432x288 with 1 Axes>"
      ]
     },
     "metadata": {
      "needs_background": "light"
     },
     "output_type": "display_data"
    }
   ],
   "source": [
    "plt.plot(history.history['accuracy'])\n",
    "plt.plot(history.history['val_accuracy'])\n",
    "plt.title('Model Accuracy')\n",
    "plt.xlabel('epoch')\n",
    "plt.ylabel('accuracy')\n",
    "plt.legend(['train', 'validation'])\n",
    "plt.show()"
   ]
  },
  {
   "cell_type": "code",
   "execution_count": 20,
   "metadata": {},
   "outputs": [
    {
     "data": {
      "image/png": "[encoded data removed]",
      "text/plain": [
       "<Figure size 432x288 with 1 Axes>"
      ]
     },
     "metadata": {
      "needs_background": "light"
     },
     "output_type": "display_data"
    }
   ],
   "source": [
    "plt.plot(history.history['loss'])\n",
    "plt.plot(history.history['val_loss'])\n",
    "plt.title('Model Loss')\n",
    "plt.xlabel('epoch')\n",
    "plt.ylabel('loss')\n",
    "plt.legend(['train', 'validation'])\n",
    "plt.show()"
   ]
  },
  {
   "cell_type": "markdown",
   "metadata": {},
   "source": [
    "## Predict"
   ]
  },
  {
   "cell_type": "markdown",
   "metadata": {},
   "source": [
    "- image를 직접 load해서 넣는 방법"
   ]
  },
  {
   "cell_type": "code",
   "execution_count": 22,
   "metadata": {},
   "outputs": [
    {
     "data": {
      "text/plain": [
       "'../dataset/cifar/test/0_cat.png'"
      ]
     },
     "execution_count": 22,
     "metadata": {},
     "output_type": "execute_result"
    }
   ],
   "source": [
    "path = test_paths[0]\n",
    "path"
   ]
  },
  {
   "cell_type": "code",
   "execution_count": 23,
   "metadata": {},
   "outputs": [
    {
     "data": {
      "text/plain": [
       "TensorShape([32, 32, 3])"
      ]
     },
     "execution_count": 23,
     "metadata": {},
     "output_type": "execute_result"
    }
   ],
   "source": [
    "gfile = tf.io.read_file(path)\n",
    "image = tf.io.decode_image(gfile, dtype=tf.float32)\n",
    "image.shape"
   ]
  },
  {
   "cell_type": "code",
   "execution_count": 24,
   "metadata": {},
   "outputs": [
    {
     "data": {
      "text/plain": [
       "TensorShape([1, 32, 32, 3])"
      ]
     },
     "execution_count": 24,
     "metadata": {},
     "output_type": "execute_result"
    }
   ],
   "source": [
    "image = image[tf.newaxis, ...]\n",
    "image.shape"
   ]
  },
  {
   "cell_type": "code",
   "execution_count": 25,
   "metadata": {},
   "outputs": [
    {
     "data": {
      "text/plain": [
       "(1, 10)"
      ]
     },
     "execution_count": 25,
     "metadata": {},
     "output_type": "execute_result"
    }
   ],
   "source": [
    "pred = model.predict(image)\n",
    "pred.shape"
   ]
  },
  {
   "cell_type": "code",
   "execution_count": 27,
   "metadata": {},
   "outputs": [
    {
     "data": {
      "text/plain": [
       "5"
      ]
     },
     "execution_count": 27,
     "metadata": {},
     "output_type": "execute_result"
    }
   ],
   "source": [
    "np.argmax(pred)"
   ]
  },
  {
   "cell_type": "markdown",
   "metadata": {},
   "source": [
    "- generator에서 데이터를 가져오는 방법"
   ]
  },
  {
   "cell_type": "code",
   "execution_count": 28,
   "metadata": {},
   "outputs": [
    {
     "data": {
      "text/plain": [
       "TensorShape([32, 32, 32, 3])"
      ]
     },
     "execution_count": 28,
     "metadata": {},
     "output_type": "execute_result"
    }
   ],
   "source": [
    "test_image, test_label = next(iter(test_dataset))\n",
    "test_image.shape"
   ]
  },
  {
   "cell_type": "code",
   "execution_count": 29,
   "metadata": {},
   "outputs": [
    {
     "data": {
      "text/plain": [
       "(32, 10)"
      ]
     },
     "execution_count": 29,
     "metadata": {},
     "output_type": "execute_result"
    }
   ],
   "source": [
    "pred = model.predict(test_image)\n",
    "pred.shape"
   ]
  },
  {
   "cell_type": "code",
   "execution_count": 31,
   "metadata": {},
   "outputs": [
    {
     "data": {
      "text/plain": [
       "5"
      ]
     },
     "execution_count": 31,
     "metadata": {},
     "output_type": "execute_result"
    }
   ],
   "source": [
    "np.argmax(pred[0])"
   ]
  },
  {
   "cell_type": "markdown",
   "metadata": {},
   "source": [
    "- generator에 넣는 방법"
   ]
  },
  {
   "cell_type": "code",
   "execution_count": 33,
   "metadata": {},
   "outputs": [
    {
     "name": "stdout",
     "output_type": "stream",
     "text": [
      "WARNING:tensorflow:From <ipython-input-33-f9fd9cdc9602>:1: Model.predict_generator (from tensorflow.python.keras.engine.training) is deprecated and will be removed in a future version.\n",
      "Instructions for updating:\n",
      "Please use Model.predict, which supports generators.\n"
     ]
    },
    {
     "data": {
      "text/plain": [
       "(32, 10)"
      ]
     },
     "execution_count": 33,
     "metadata": {},
     "output_type": "execute_result"
    }
   ],
   "source": [
    "pred = model.predict_generator(test_dataset.take(1))\n",
    "pred.shape"
   ]
  },
  {
   "cell_type": "code",
   "execution_count": 35,
   "metadata": {},
   "outputs": [
    {
     "data": {
      "text/plain": [
       "5"
      ]
     },
     "execution_count": 35,
     "metadata": {},
     "output_type": "execute_result"
    }
   ],
   "source": [
    "np.argmax(pred[0])"
   ]
  },
  {
   "cell_type": "markdown",
   "metadata": {},
   "source": [
    "## Eval"
   ]
  },
  {
   "cell_type": "code",
   "execution_count": 38,
   "metadata": {},
   "outputs": [
    {
     "name": "stdout",
     "output_type": "stream",
     "text": [
      "1/1 [==============================] - 0s 2ms/step - loss: 1.4508 - accuracy: 0.4688\n"
     ]
    },
    {
     "data": {
      "text/plain": [
       "[1.450776219367981, 0.46875]"
      ]
     },
     "execution_count": 38,
     "metadata": {},
     "output_type": "execute_result"
    }
   ],
   "source": [
    "image, label = next(iter(test_dataset))\n",
    "evals = model.evaluate(image, label)\n",
    "evals"
   ]
  },
  {
   "cell_type": "markdown",
   "metadata": {},
   "source": [
    "## Saving Model"
   ]
  },
  {
   "cell_type": "code",
   "execution_count": 39,
   "metadata": {},
   "outputs": [],
   "source": [
    "save_path = 'my_model.h5'\n",
    "model.save(save_path, include_optimizer=True)"
   ]
  },
  {
   "cell_type": "code",
   "execution_count": 40,
   "metadata": {},
   "outputs": [],
   "source": [
    "model = tf.keras.models.load_model('my_model.h5')"
   ]
  },
  {
   "cell_type": "markdown",
   "metadata": {},
   "source": [
    "## Saving Model 2"
   ]
  },
  {
   "cell_type": "code",
   "execution_count": 41,
   "metadata": {},
   "outputs": [],
   "source": [
    "model.save_weights('model_weights.h5')"
   ]
  },
  {
   "cell_type": "code",
   "execution_count": 42,
   "metadata": {},
   "outputs": [],
   "source": [
    "with open('model_architecture.json', 'w') as f:\n",
    "    f.write(model.to_json())"
   ]
  },
  {
   "cell_type": "code",
   "execution_count": 43,
   "metadata": {},
   "outputs": [],
   "source": [
    "from tensorflow.keras.models import model_from_json"
   ]
  },
  {
   "cell_type": "code",
   "execution_count": 44,
   "metadata": {},
   "outputs": [],
   "source": [
    "with open('model_architecture.json', 'r') as f:\n",
    "    model = model_from_json(f.read())"
   ]
  },
  {
   "cell_type": "code",
   "execution_count": 45,
   "metadata": {},
   "outputs": [],
   "source": [
    "model.load_weights('model_weights.h5')"
   ]
  },
  {
   "cell_type": "markdown",
   "metadata": {},
   "source": [
    "## H5 모델"
   ]
  },
  {
   "cell_type": "code",
   "execution_count": 46,
   "metadata": {},
   "outputs": [],
   "source": [
    "import h5py"
   ]
  },
  {
   "cell_type": "code",
   "execution_count": 47,
   "metadata": {},
   "outputs": [
    {
     "data": {
      "text/plain": [
       "<KeysViewHDF5 ['model_weights', 'optimizer_weights']>"
      ]
     },
     "execution_count": 47,
     "metadata": {},
     "output_type": "execute_result"
    }
   ],
   "source": [
    "model_file = h5py.File('my_model.h5', 'r+')\n",
    "model_file.keys()"
   ]
  },
  {
   "cell_type": "code",
   "execution_count": 48,
   "metadata": {},
   "outputs": [
    {
     "data": {
      "text/plain": [
       "<KeysViewHDF5 ['activation', 'activation_1', 'activation_2', 'activation_3', 'activation_4', 'activation_5', 'conv2d', 'conv2d_1', 'conv2d_2', 'conv2d_3', 'dense', 'dense_1', 'dropout', 'dropout_1', 'dropout_2', 'flatten', 'input_1', 'max_pooling2d', 'max_pooling2d_1']>"
      ]
     },
     "execution_count": 48,
     "metadata": {},
     "output_type": "execute_result"
    }
   ],
   "source": [
    "model_file['model_weights'].keys()"
   ]
  },
  {
   "cell_type": "code",
   "execution_count": 49,
   "metadata": {},
   "outputs": [
    {
     "data": {
      "text/plain": [
       "<KeysViewHDF5 ['bias:0', 'kernel:0']>"
      ]
     },
     "execution_count": 49,
     "metadata": {},
     "output_type": "execute_result"
    }
   ],
   "source": [
    "model_file['model_weights']['conv2d']['conv2d'].keys()"
   ]
  },
  {
   "cell_type": "code",
   "execution_count": 50,
   "metadata": {},
   "outputs": [
    {
     "data": {
      "text/plain": [
       "<HDF5 dataset \"kernel:0\": shape (3, 3, 3, 32), type \"<f4\">"
      ]
     },
     "execution_count": 50,
     "metadata": {},
     "output_type": "execute_result"
    }
   ],
   "source": [
    "model_file['model_weights']['conv2d']['conv2d']['kernel:0']"
   ]
  },
  {
   "cell_type": "code",
   "execution_count": 51,
   "metadata": {},
   "outputs": [
    {
     "data": {
      "text/plain": [
       "array([[[[-4.41373698e-03, -1.81092527e-02, -1.15045622e-01,\n",
       "          -1.02968328e-01,  1.18879750e-01,  8.07792842e-02,\n",
       "          -3.01032625e-02,  9.46301445e-02, -4.95156050e-02,\n",
       "           3.11887953e-02,  1.04578614e-01, -8.81722867e-02,\n",
       "          -2.81464271e-02, -8.03300142e-02,  1.15343958e-01,\n",
       "           1.48306236e-01,  1.18911266e-01,  5.09372652e-02,\n",
       "          -1.08802496e-02,  5.99147081e-02,  3.34208682e-02,\n",
       "           1.95396859e-02, -7.50395060e-02,  3.57208513e-02,\n",
       "           6.93622977e-03, -1.15741856e-01,  1.74223393e-01,\n",
       "           1.43920571e-01, -1.18670605e-01, -4.52235632e-04,\n",
       "          -5.72678931e-02, -5.97573742e-02],\n",
       "         [ 8.79210904e-02, -1.27498284e-01, -1.33752376e-01,\n",
       "          -8.61667544e-02, -1.78839974e-02, -4.66508493e-02,\n",
       "           6.60564080e-02, -1.22637324e-01, -2.63224822e-02,\n",
       "           1.24734631e-02,  1.17831290e-01, -3.92131768e-02,\n",
       "          -1.34034872e-01,  5.40631562e-02, -1.74319923e-01,\n",
       "          -1.50423095e-01,  1.55014426e-01, -5.31491376e-02,\n",
       "          -1.26176775e-01,  1.16675813e-03,  9.48996916e-02,\n",
       "          -1.33047536e-01, -2.05695885e-03, -4.75448929e-02,\n",
       "           6.48391843e-02,  5.13046831e-02, -4.40765843e-02,\n",
       "           1.41655311e-01,  5.26686236e-02,  5.21965064e-02,\n",
       "           5.57649471e-02, -2.23695785e-02],\n",
       "         [-2.51106583e-02,  4.95252721e-02,  1.03946283e-01,\n",
       "           8.49959329e-02,  5.00935577e-02,  1.46481857e-01,\n",
       "          -8.58601406e-02, -1.53344899e-01, -1.26877606e-01,\n",
       "           8.93335119e-02, -1.38488010e-01, -4.43944670e-02,\n",
       "           1.26852691e-01,  8.56581256e-02,  2.84411181e-02,\n",
       "          -1.34715065e-01,  1.72389209e-01, -4.19774875e-02,\n",
       "          -1.14288189e-01, -1.40881047e-01,  2.85911299e-02,\n",
       "           5.74500486e-02, -2.57566161e-02,  9.74363089e-02,\n",
       "          -9.86398309e-02,  1.08283348e-01, -1.36420578e-01,\n",
       "          -2.71032024e-02,  6.46142736e-02, -5.73176704e-02,\n",
       "          -1.71348438e-01, -2.13093609e-02]],\n",
       "\n",
       "        [[-1.45701140e-01, -8.91525522e-02, -1.24430463e-01,\n",
       "          -2.86864489e-02, -6.26117513e-02, -7.85847846e-03,\n",
       "          -3.02746613e-02,  7.08733350e-02, -1.22462213e-01,\n",
       "          -8.73122662e-02,  1.15729265e-01, -1.15190834e-01,\n",
       "           3.97355855e-02, -7.35204592e-02, -5.46656065e-02,\n",
       "           3.51356268e-02,  3.55515927e-02,  1.35989055e-01,\n",
       "           8.53167996e-02,  4.02586116e-03, -4.64783423e-02,\n",
       "           5.84910512e-02, -3.20769101e-02,  6.72160983e-02,\n",
       "          -2.35313619e-03,  6.14406951e-02,  1.38064757e-01,\n",
       "           4.70662266e-02,  1.57103434e-01, -6.02689460e-02,\n",
       "           1.55596718e-01,  5.94639853e-02],\n",
       "         [-5.23787662e-02, -9.25573334e-02, -2.49652117e-02,\n",
       "           6.53614402e-02,  7.91196078e-02, -9.82974656e-03,\n",
       "          -3.78200337e-02,  1.26240626e-01, -2.23257616e-02,\n",
       "          -1.04984179e-01,  1.86159369e-02,  5.29772602e-02,\n",
       "          -1.10674463e-01, -7.06447586e-02,  1.71125494e-02,\n",
       "           6.31141802e-03, -1.34051278e-01, -8.95896778e-02,\n",
       "          -7.05791265e-03,  3.67751308e-02,  4.07993793e-02,\n",
       "           4.54987958e-02, -1.59435958e-01,  3.22486125e-02,\n",
       "           3.06639187e-02,  7.86269754e-02, -6.53680339e-02,\n",
       "          -2.46880716e-03,  1.41439840e-01,  1.18269943e-01,\n",
       "           1.41731113e-01,  1.88523810e-02],\n",
       "         [-4.39585671e-02,  4.10776846e-02, -1.69950984e-02,\n",
       "           1.62665080e-02, -1.38223171e-01,  6.43583238e-02,\n",
       "           1.14808738e-01,  4.98552732e-02,  3.76775526e-02,\n",
       "          -7.04614259e-03, -1.70992553e-01,  1.55963870e-02,\n",
       "           6.31308137e-03,  1.04452476e-01, -1.02204874e-01,\n",
       "           9.17903855e-02, -1.09832890e-01, -3.44936252e-02,\n",
       "           6.63551241e-02,  3.89240235e-02, -1.63471490e-01,\n",
       "           7.16493055e-02,  7.72198662e-02, -1.62995327e-02,\n",
       "          -6.11412711e-02,  1.41363069e-01,  7.35546947e-02,\n",
       "           1.51390254e-01,  1.12105258e-01,  3.17222322e-04,\n",
       "          -1.33575648e-01,  2.80285701e-02]],\n",
       "\n",
       "        [[-6.20648712e-02, -1.33261457e-01, -1.38227195e-01,\n",
       "          -8.62595364e-02,  4.66769114e-02, -4.45092097e-02,\n",
       "          -8.36725980e-02, -2.23084893e-02,  6.19886955e-03,\n",
       "          -1.09859861e-01, -9.31414366e-02, -8.69927034e-02,\n",
       "           6.60757208e-03, -2.00257841e-02,  4.22484465e-02,\n",
       "           9.20488015e-02, -1.17131434e-01,  8.93253237e-02,\n",
       "           1.24069907e-01, -2.58934451e-03,  1.11383989e-01,\n",
       "          -4.69145700e-02, -1.70789897e-01,  3.66783813e-02,\n",
       "          -9.57522728e-03, -3.26627865e-02,  5.20559140e-02,\n",
       "           7.87011683e-02, -2.10733548e-01, -1.05490848e-01,\n",
       "           1.32875159e-01,  1.57318801e-01],\n",
       "         [ 1.73330102e-02, -1.24264270e-01,  1.10883623e-01,\n",
       "           8.05689171e-02,  1.09427400e-01,  1.20520331e-01,\n",
       "           5.44320121e-02,  1.19537324e-01,  8.45865011e-02,\n",
       "          -1.52673334e-01, -9.73263830e-02,  2.29138061e-02,\n",
       "           1.08682765e-02,  4.73964848e-02, -7.64762685e-02,\n",
       "          -1.29533246e-01,  2.18763109e-02, -4.95661609e-02,\n",
       "          -9.47164278e-03,  8.18908140e-02, -4.16292809e-02,\n",
       "          -5.96115738e-02,  3.69869806e-02,  1.11904383e-01,\n",
       "           7.62832984e-02,  5.34598827e-02,  2.00292338e-02,\n",
       "           4.43271734e-02, -1.44677028e-01, -7.17476904e-02,\n",
       "           8.02922025e-02,  1.51039576e-02],\n",
       "         [ 9.02140066e-02, -1.03230454e-01,  7.13066608e-02,\n",
       "           1.09021757e-02,  7.06719980e-03,  1.35408193e-01,\n",
       "          -7.85559230e-03,  1.02050118e-01,  7.13878032e-03,\n",
       "           2.47138981e-02, -9.28921774e-02, -1.33859977e-01,\n",
       "          -3.37032750e-02,  8.91535059e-02, -1.16419001e-02,\n",
       "          -1.61179490e-02, -1.40418261e-01, -5.55019975e-02,\n",
       "          -6.60333261e-02,  1.91850327e-02, -4.69145812e-02,\n",
       "           6.35696128e-02, -4.75761108e-02,  3.29261236e-02,\n",
       "          -1.69500664e-01, -1.48000373e-02, -1.18289471e-01,\n",
       "           1.51494995e-01, -1.87208593e-01, -6.29832298e-02,\n",
       "          -1.01038046e-01,  1.73713118e-01]]],\n",
       "\n",
       "\n",
       "       [[[-1.32941484e-01,  7.08394742e-04,  3.90842333e-02,\n",
       "          -1.25947893e-01, -4.78889644e-02, -1.14149511e-01,\n",
       "          -1.05134584e-01,  9.81700197e-02,  2.55721863e-02,\n",
       "          -6.88583180e-02, -1.72815174e-02, -1.93640999e-02,\n",
       "           7.20710084e-02,  9.85576883e-02, -2.55242214e-02,\n",
       "           7.71816820e-02,  6.74159303e-02,  1.07660830e-01,\n",
       "           2.53082700e-02, -1.26364827e-01,  4.96826135e-02,\n",
       "           4.53396924e-02,  6.14548149e-03, -1.26965597e-01,\n",
       "          -9.80985910e-02,  1.07321985e-01,  1.18315116e-01,\n",
       "          -1.19724959e-01, -4.26263697e-02, -9.07274634e-02,\n",
       "           1.34302929e-01, -5.37634492e-02],\n",
       "         [-8.09215084e-02, -1.53362125e-01, -9.86542627e-02,\n",
       "           8.35708156e-02,  1.19191431e-01,  4.16907221e-02,\n",
       "          -1.42164275e-01,  6.85060844e-02, -5.00035919e-02,\n",
       "          -1.38208941e-01, -1.11575022e-01,  6.91255480e-02,\n",
       "          -8.47445428e-02, -1.03706561e-01,  5.90198264e-02,\n",
       "          -4.00997289e-02, -4.80359346e-02, -1.27487615e-01,\n",
       "           7.83891231e-02, -1.59870714e-01,  1.16061345e-01,\n",
       "          -6.89840466e-02, -3.24331857e-02, -3.53913642e-02,\n",
       "           9.28519815e-02,  8.69692340e-02, -1.11578651e-01,\n",
       "          -3.47658917e-02, -1.50535077e-01, -2.64361482e-02,\n",
       "           8.93917531e-02, -1.76573321e-01],\n",
       "         [ 6.48789555e-02,  9.00726020e-02, -1.41323602e-03,\n",
       "           1.10157251e-01, -1.53793871e-01, -3.61375287e-02,\n",
       "           1.02669328e-01, -9.91397817e-03, -5.95306084e-02,\n",
       "          -1.46974012e-01,  2.85292976e-03,  6.02980517e-02,\n",
       "          -2.32557729e-02, -1.48984373e-01, -1.28747046e-01,\n",
       "          -7.39468411e-02,  1.10168178e-02,  1.28616765e-01,\n",
       "          -1.58574939e-01, -2.21033655e-02, -2.35405774e-03,\n",
       "          -4.56363484e-02,  5.99164926e-02, -8.17241147e-02,\n",
       "          -8.00088346e-02,  7.57842362e-02,  9.56741348e-02,\n",
       "           1.19211555e-01, -5.98280989e-02,  1.48314340e-02,\n",
       "          -5.25564589e-02, -5.95662296e-02]],\n",
       "\n",
       "        [[-1.11941611e-02, -7.03110360e-03, -1.26979887e-01,\n",
       "           9.36745331e-02,  1.60332739e-01, -1.54320821e-01,\n",
       "          -7.53219202e-02,  6.88084662e-02, -3.73267047e-02,\n",
       "          -6.81956857e-02, -1.46818653e-01, -1.51849598e-01,\n",
       "          -4.88165133e-02,  3.11431680e-02,  1.32300675e-01,\n",
       "           1.34387940e-01, -1.85530968e-02,  1.15863182e-01,\n",
       "          -6.61059693e-02,  7.33990362e-03, -2.29127146e-02,\n",
       "          -9.98043641e-02,  1.17802352e-01, -3.76763032e-03,\n",
       "           3.88793573e-02, -3.61683071e-02,  3.20279622e-04,\n",
       "          -1.23020619e-01,  1.23356670e-01,  1.02353044e-01,\n",
       "          -3.54605280e-02, -8.30016062e-02],\n",
       "         [-3.94457616e-02, -7.22707510e-02, -1.16524585e-02,\n",
       "           1.05581075e-01,  1.78250119e-01, -1.33070469e-01,\n",
       "          -1.13361374e-01,  2.13833619e-02,  6.33136630e-02,\n",
       "           1.01001687e-01,  4.50950526e-02, -1.53842658e-01,\n",
       "          -1.19688980e-01,  1.64218657e-02, -1.55131072e-01,\n",
       "          -1.36075869e-01,  8.90203938e-02, -8.95575620e-03,\n",
       "          -1.35280922e-01, -1.48614608e-02, -9.59949195e-02,\n",
       "           9.36777815e-02,  5.98441176e-02, -1.69047385e-01,\n",
       "          -1.46014154e-01,  6.82785735e-02, -9.73862559e-02,\n",
       "           1.25141859e-01,  5.42209409e-02, -6.58553559e-04,\n",
       "          -1.13378875e-01, -3.02935559e-02],\n",
       "         [ 6.42687380e-02,  7.79185370e-02,  8.91860873e-02,\n",
       "           1.42461762e-01, -9.99746621e-02,  1.19860813e-01,\n",
       "          -2.74456888e-02, -9.60256681e-02,  6.63434505e-04,\n",
       "          -7.13944882e-02, -1.75118119e-01, -5.94927669e-02,\n",
       "           1.15608037e-01,  1.15036562e-01,  8.06662068e-03,\n",
       "          -1.23485319e-01,  1.17580645e-01, -1.07971497e-01,\n",
       "           1.38745978e-01, -1.61925271e-01, -1.59698308e-01,\n",
       "           8.85644555e-02,  1.32000089e-01,  1.74849145e-02,\n",
       "          -1.49180874e-01,  2.84469896e-03,  4.32361066e-02,\n",
       "           3.25115807e-02, -8.35537761e-02, -1.57141343e-01,\n",
       "          -1.42740563e-01, -1.19899713e-01]],\n",
       "\n",
       "        [[ 1.02081522e-01, -2.85175955e-03,  8.87164474e-02,\n",
       "          -3.27934064e-02, -2.74728462e-02,  7.82231987e-02,\n",
       "          -1.80387259e-01, -5.09565463e-04,  1.45664543e-01,\n",
       "          -3.69428284e-02, -2.21957788e-02,  5.11795701e-03,\n",
       "           4.47654091e-02, -1.18658885e-01, -1.04552172e-02,\n",
       "           6.52777357e-03,  6.98439404e-02, -2.31764629e-03,\n",
       "          -7.26502314e-02,  2.60408013e-03, -8.97059217e-02,\n",
       "          -2.28802655e-02, -1.76753420e-02, -1.85479045e-01,\n",
       "          -8.29167068e-02,  2.33548004e-02, -6.20413311e-02,\n",
       "          -3.74501534e-02, -1.34172598e-02, -6.77726120e-02,\n",
       "          -3.88057739e-03, -2.91359238e-03],\n",
       "         [-2.43285019e-02,  5.66443130e-02,  8.87448806e-03,\n",
       "           9.94168818e-02,  1.70931309e-01,  9.12528113e-02,\n",
       "          -1.31228520e-02,  1.05620801e-01,  1.21183611e-01,\n",
       "          -1.18935950e-01,  9.34553742e-02, -1.49589911e-01,\n",
       "          -6.32322058e-02, -7.59582892e-02, -1.35719433e-01,\n",
       "          -1.99711602e-02, -1.19964086e-01, -1.28517836e-01,\n",
       "          -1.15741782e-01,  8.31116587e-02,  3.69835906e-02,\n",
       "          -1.36441580e-04, -4.16781567e-02, -1.13305710e-01,\n",
       "          -1.30178839e-01, -4.34922874e-02, -5.08559607e-02,\n",
       "          -1.12079039e-01, -1.69037759e-01,  1.27474532e-01,\n",
       "           5.68915121e-02,  1.39344726e-02],\n",
       "         [ 9.05741751e-02,  2.47162711e-02, -9.76003632e-02,\n",
       "          -1.13772854e-01, -1.63594291e-01, -6.30588010e-02,\n",
       "           2.69571301e-02, -1.27266377e-01,  1.20315187e-01,\n",
       "           9.01003107e-02, -9.61893052e-02,  3.22697461e-02,\n",
       "           8.11414793e-02, -5.56131974e-02,  5.64935058e-03,\n",
       "           1.19848870e-01, -1.69473737e-01, -3.61711569e-02,\n",
       "          -3.32916752e-02,  4.50936593e-02, -3.70412879e-02,\n",
       "           1.50624141e-01,  2.53710784e-02, -1.53979212e-01,\n",
       "           3.72410589e-03,  1.42264575e-01, -1.22244731e-01,\n",
       "          -7.63244852e-02, -1.24030903e-01, -5.49807809e-02,\n",
       "           1.25521123e-02,  8.37464780e-02]]],\n",
       "\n",
       "\n",
       "       [[[-2.57468615e-02, -7.27962479e-02, -8.06798488e-02,\n",
       "          -7.22359344e-02, -9.21593681e-02,  4.59044531e-06,\n",
       "          -3.84417474e-02, -6.28610998e-02,  1.09679922e-01,\n",
       "           2.61981096e-02, -1.41404912e-01, -2.25189310e-02,\n",
       "           5.94160110e-02,  1.25327170e-01, -4.85515082e-03,\n",
       "          -8.71011838e-02,  2.96488702e-02,  1.06212273e-01,\n",
       "          -1.01210900e-01,  1.27442330e-01,  1.37935951e-01,\n",
       "          -9.45938844e-03,  3.46974023e-02,  1.02144100e-01,\n",
       "           7.72750303e-02, -1.68120861e-01,  4.26505022e-02,\n",
       "          -1.01645418e-01, -1.13655686e-01,  1.37954131e-01,\n",
       "          -8.03190619e-02, -7.50236511e-02],\n",
       "         [ 1.06532320e-01,  1.88264139e-02, -1.81633048e-02,\n",
       "           9.04278755e-02,  9.16221440e-02, -9.08177793e-02,\n",
       "           4.22226936e-02,  5.90416864e-02, -8.25650394e-02,\n",
       "           4.74527664e-02, -7.96397626e-02, -1.92697067e-02,\n",
       "           1.07665382e-01, -4.70839394e-03, -1.70477331e-01,\n",
       "          -1.56285405e-01,  1.66795112e-03, -6.60640374e-02,\n",
       "           8.52503106e-02,  3.73042673e-02,  6.66287402e-03,\n",
       "           2.35111434e-02, -7.43847862e-02, -3.24520692e-02,\n",
       "           5.47863655e-02, -3.65257710e-02, -5.38945124e-02,\n",
       "           2.05058791e-02, -1.13117225e-01,  3.90728824e-02,\n",
       "          -1.45161986e-01, -1.57186672e-01],\n",
       "         [ 3.66408192e-02, -1.28275171e-01,  1.69155076e-01,\n",
       "          -5.52396476e-02, -1.07267417e-01, -1.01284921e-01,\n",
       "          -1.55450692e-02, -1.38352722e-01, -1.07246689e-01,\n",
       "           1.33763716e-01, -5.62403612e-02,  1.10703327e-01,\n",
       "           8.51395875e-02, -5.28978109e-02,  2.67233513e-02,\n",
       "           1.17366323e-02,  7.18805343e-02,  1.25142276e-01,\n",
       "           1.08535498e-01, -9.23769176e-02, -1.27107322e-01,\n",
       "           1.60115436e-02,  9.45282876e-02, -5.92071377e-02,\n",
       "           8.93454924e-02,  3.82901840e-02,  6.75789341e-02,\n",
       "          -1.41137302e-01,  8.78175870e-02, -1.78140029e-01,\n",
       "          -2.65723485e-02,  6.91064447e-02]],\n",
       "\n",
       "        [[ 4.21060845e-02, -1.56297341e-01, -3.29363830e-02,\n",
       "          -1.28033325e-01, -1.18875332e-01, -1.28097594e-01,\n",
       "           5.76354004e-02,  1.90089624e-02, -9.73888785e-02,\n",
       "           1.44552842e-01,  4.60491031e-02, -7.85018057e-02,\n",
       "           1.11579716e-01,  4.13579158e-02,  1.29012629e-01,\n",
       "          -3.56314480e-02, -5.41043654e-02,  4.08791304e-02,\n",
       "           1.02488995e-01, -8.92732292e-02,  9.08444747e-02,\n",
       "          -5.97772039e-02,  5.02923541e-02,  9.66694802e-02,\n",
       "           6.80604801e-02, -1.58505812e-01,  3.39321122e-02,\n",
       "           3.06925233e-02, -1.14266209e-01,  1.11926027e-01,\n",
       "          -5.86023415e-03, -1.34899601e-01],\n",
       "         [-8.54970068e-02, -8.58418792e-02,  4.49124016e-02,\n",
       "          -8.85037631e-02, -7.26936981e-02, -4.74452712e-02,\n",
       "           1.22442752e-01, -7.69209191e-02, -4.12154905e-02,\n",
       "           8.62060636e-02,  3.14794318e-03, -6.36240095e-02,\n",
       "           8.60486254e-02, -5.86611638e-03, -1.42969057e-01,\n",
       "          -2.22478658e-02,  9.31465551e-02, -1.01877131e-01,\n",
       "          -3.37123610e-02,  9.29056853e-02,  1.11699224e-01,\n",
       "          -1.32799044e-01,  9.38189179e-02,  9.22727659e-02,\n",
       "           1.32790646e-02, -1.41903684e-01, -3.04466523e-02,\n",
       "          -1.56251237e-01, -6.53635561e-02,  1.53646097e-01,\n",
       "          -4.35776040e-02, -1.50963306e-01],\n",
       "         [ 3.50726582e-02,  9.69179124e-02,  1.11338533e-01,\n",
       "          -2.23661009e-02, -1.19470246e-01,  2.60172095e-02,\n",
       "           5.13056777e-02,  5.45559339e-02, -1.19920634e-01,\n",
       "          -4.87488061e-02, -2.70342678e-02, -1.45015210e-01,\n",
       "           2.92184874e-02, -1.43508434e-01,  6.90797344e-02,\n",
       "           4.56652278e-03, -1.69726089e-03, -9.89865139e-02,\n",
       "           2.02363450e-02, -1.03387512e-01, -5.55395186e-02,\n",
       "           1.47285551e-01,  1.31689101e-01,  5.22375181e-02,\n",
       "           1.26833409e-01,  4.10707202e-03,  7.94088542e-02,\n",
       "           9.68332142e-02,  8.33450705e-02,  4.01209015e-03,\n",
       "           8.36429223e-02,  3.38411741e-02]],\n",
       "\n",
       "        [[-9.79804769e-02,  4.08005677e-02,  1.49710983e-01,\n",
       "          -9.18807685e-02, -4.19057161e-02,  1.02407150e-01,\n",
       "           1.02839656e-01,  1.38006294e-02,  1.33604705e-01,\n",
       "          -1.66462302e-01,  1.23367347e-01, -7.74938017e-02,\n",
       "           2.82040741e-02,  8.55131149e-02, -9.38638300e-02,\n",
       "           8.69471207e-02, -6.63433075e-02, -9.16332603e-02,\n",
       "          -8.35688785e-02,  1.09435841e-01, -3.03138699e-03,\n",
       "          -1.03507593e-01,  2.64932234e-02, -1.76015794e-02,\n",
       "           7.48229325e-02,  4.85275872e-03, -9.11049843e-02,\n",
       "          -1.15721963e-01, -5.52593805e-02,  1.12774540e-02,\n",
       "          -5.98349646e-02,  6.07236922e-02],\n",
       "         [-4.70527895e-02, -9.98158306e-02,  1.55623183e-01,\n",
       "           4.98223603e-02, -3.59237082e-02, -4.43332363e-03,\n",
       "           6.91092610e-02,  6.66790158e-02,  1.57712683e-01,\n",
       "          -1.26550898e-01, -1.16665550e-02,  5.56092896e-02,\n",
       "          -1.62882864e-01, -3.47856432e-02,  6.36722967e-02,\n",
       "           9.77968946e-02, -9.57228392e-02, -7.30829313e-02,\n",
       "           5.88547364e-02,  1.07691467e-01,  4.79547195e-02,\n",
       "           5.98274432e-02, -1.31500646e-01,  8.95317271e-02,\n",
       "           7.33869672e-02, -1.35095036e-02, -6.03893548e-02,\n",
       "          -1.15147986e-01, -4.94700186e-02,  2.21991763e-02,\n",
       "          -1.27083316e-01, -7.35139251e-02],\n",
       "         [-5.31543866e-02, -2.92868316e-02, -7.11187497e-02,\n",
       "          -7.84004759e-03, -4.23542075e-02,  1.23614043e-01,\n",
       "           6.86206594e-02, -3.16516124e-02, -1.91715434e-02,\n",
       "          -1.52382059e-02, -1.92542430e-02, -5.00257947e-02,\n",
       "           9.54373553e-02,  1.71860270e-02, -7.65805691e-02,\n",
       "           1.05015777e-01, -1.09893782e-03,  1.27194300e-01,\n",
       "           1.34581745e-01,  7.08257221e-03, -3.37316133e-02,\n",
       "          -8.84864107e-02,  1.11455828e-01,  9.91381779e-02,\n",
       "           5.43788970e-02,  8.95423908e-03,  3.61471763e-03,\n",
       "          -1.21251263e-01,  9.18823630e-02,  5.94514757e-02,\n",
       "          -2.90980772e-03, -1.14044286e-01]]]], dtype=float32)"
      ]
     },
     "execution_count": 51,
     "metadata": {},
     "output_type": "execute_result"
    }
   ],
   "source": [
    "weight = np.array(model_file['model_weights']['conv2d']['conv2d']['kernel:0'])\n",
    "weight"
   ]
  },
  {
   "cell_type": "code",
   "execution_count": null,
   "metadata": {},
   "outputs": [],
   "source": []
  }
 ],
 "metadata": {
  "kernelspec": {
   "display_name": "tf2.3.0-keras2.4.0-py3.7-cuda10.1",
   "language": "python",
   "name": "tf2.3.0-keras2.4.0-py3.7-cuda10.1"
  },
  "language_info": {
   "codemirror_mode": {
    "name": "ipython",
    "version": 3
   },
   "file_extension": ".py",
   "mimetype": "text/x-python",
   "name": "python",
   "nbconvert_exporter": "python",
   "pygments_lexer": "ipython3",
   "version": "3.7.5"
  }
 },
 "nbformat": 4,
 "nbformat_minor": 4
}
