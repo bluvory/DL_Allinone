{
 "cells": [
  {
   "cell_type": "markdown",
   "metadata": {},
   "source": [
    "### 심층 신경망 Deep Neural Network\n",
    "- 은닉 계층 추가 = 특징의 비선형 변환 추가\n",
    "- 학습 매개변수의 수가 계층 크기의 제곱에 비례\n",
    "\n",
    "### 심층 신경망의 구조\n",
    "- 입력 계층 / 은닉 계층 / 출력 계층\n"
   ]
  },
  {
   "cell_type": "markdown",
   "metadata": {},
   "source": [
    "## 수치 미분을 이용한 심층 신경망 학습"
   ]
  },
  {
   "cell_type": "code",
   "execution_count": 1,
   "metadata": {},
   "outputs": [],
   "source": [
    "import time\n",
    "import numpy as np"
   ]
  },
  {
   "cell_type": "markdown",
   "metadata": {},
   "source": [
    "## 유틸리티 함수"
   ]
  },
  {
   "cell_type": "code",
   "execution_count": 2,
   "metadata": {},
   "outputs": [],
   "source": [
    "epsilon = 0.0001\n",
    "\n",
    "def _t(x):\n",
    "    return np.transpose(x)\n",
    "\n",
    "def _m(A, B):\n",
    "    return np.matmul(A, B)\n",
    "\n",
    "def sigmoid(x):\n",
    "    return 1 / (1 + np.exp(-x))\n",
    "\n",
    "def mean_squared_error(h, y):\n",
    "    return 1 / 2 * np.mean(np.square(h - y))"
   ]
  },
  {
   "cell_type": "markdown",
   "metadata": {},
   "source": [
    "## 뉴런 구현"
   ]
  },
  {
   "cell_type": "code",
   "execution_count": 3,
   "metadata": {},
   "outputs": [],
   "source": [
    "class Neuron:\n",
    "    def __init__(self, W, b, a):\n",
    "        # Model Parameter\n",
    "        self.W = W\n",
    "        self.b = b\n",
    "        self.a = a\n",
    "        \n",
    "        # Gradients\n",
    "        self.dW = np.zeros_like(self.W)\n",
    "        self.db = np.zeros_like(self.b)\n",
    "\n",
    "    def __call__(self, x):\n",
    "        return self.a(_m(_t(self.W), x) + self.b) # activation((W^T)x + b)"
   ]
  },
  {
   "cell_type": "markdown",
   "metadata": {},
   "source": [
    "## 심층신경망 구현"
   ]
  },
  {
   "cell_type": "code",
   "execution_count": 4,
   "metadata": {},
   "outputs": [],
   "source": [
    "class DNN:\n",
    "    def __init__(self, hidden_depth, num_neuron, num_input, num_output, activation=sigmoid):\n",
    "        def init_var(i, o):\n",
    "            return np.random.normal(0.0, 0.01, (i, o)), np.zeros((o,))\n",
    "\n",
    "        self.sequence = list()\n",
    "        # First hidden layer\n",
    "        W, b = init_var(num_input, num_neuron)\n",
    "        self.sequence.append(Neuron(W, b, activation))\n",
    "        \n",
    "        # Hidden layers\n",
    "        for _ in range(hidden_depth - 1):\n",
    "            W, b = init_var(num_neuron, num_neuron)\n",
    "            self.sequence.append(Neuron(W, b, activation))\n",
    "\n",
    "        # Output layer\n",
    "        W, b = init_var(num_neuron, num_output)\n",
    "        self.sequence.append(Neuron(W, b, activation))\n",
    "\n",
    "    def __call__(self, x):\n",
    "        for layer in self.sequence:\n",
    "            x = layer(x)\n",
    "        return x\n",
    "\n",
    "    def calc_gradient(self, x, y, loss_func):\n",
    "        def get_new_sequence(layer_index, new_neuron):\n",
    "            new_sequence = list()\n",
    "            for i, layer in enumerate(self.sequence):\n",
    "                if i == layer_index:\n",
    "                    new_sequence.append(new_neuron)\n",
    "                else:\n",
    "                    new_sequence.append(layer)\n",
    "            return new_sequence\n",
    "        \n",
    "        def eval_sequence(x, sequence):\n",
    "            for layer in sequence:\n",
    "                x = layer(x)\n",
    "            return x\n",
    "        \n",
    "        loss = loss_func(self(x), y)\n",
    "        \n",
    "        for layer_id, layer in enumerate(self.sequence): # iterate layer\n",
    "            for w_i, w in enumerate(layer.W): # iterate W (row)\n",
    "                for w_j, ww in enumerate(w): # iterate W (col)\n",
    "                    W = np.copy(layer.W)\n",
    "                    W[w_i][w_j] = ww + epsilon\n",
    "                    \n",
    "                    new_neuron = Neuron(W, layer.b, layer.a)\n",
    "                    new_seq = get_new_sequence(layer_id, new_neuron)\n",
    "                    h = eval_sequence(x, new_seq)\n",
    "                    \n",
    "                    num_grad = (loss_func(h, y) - loss) / epsilon  # (f(x+eps) - f(x)) / epsilon\n",
    "                    layer.dW[w_i][w_j] = num_grad\n",
    "            \n",
    "                for b_i, bb in enumerate(layer.b): # iterate b\n",
    "                    b = np.copy(layer.b)\n",
    "                    b[b_i] = bb + epsilon\n",
    "                    \n",
    "                    new_neuron = Neuron(layer.W, b, layer.a)\n",
    "                    new_seq = get_new_sequence(layer_id, new_neuron)\n",
    "                    h = eval_sequence(x, new_seq)\n",
    "                    \n",
    "                    num_grad = (loss_func(h, y) - loss) / epsilon  # (f(x+eps) - f(x)) / epsilon\n",
    "                    layer.db[b_i] = num_grad\n",
    "        return loss"
   ]
  },
  {
   "cell_type": "markdown",
   "metadata": {},
   "source": [
    "## 경사하강 학습법"
   ]
  },
  {
   "cell_type": "code",
   "execution_count": 5,
   "metadata": {},
   "outputs": [],
   "source": [
    "def gradient_descent(network, x, y, loss_obj, alpha=0.01):\n",
    "    loss = network.calc_gradient(x, y, loss_obj)\n",
    "    for layer in network.sequence:\n",
    "        layer.W += -alpha * layer.dW\n",
    "        layer.b += -alpha * layer.db\n",
    "    return loss"
   ]
  },
  {
   "cell_type": "markdown",
   "metadata": {},
   "source": [
    "## 동작 테스트"
   ]
  },
  {
   "cell_type": "code",
   "execution_count": 6,
   "metadata": {},
   "outputs": [
    {
     "name": "stdout",
     "output_type": "stream",
     "text": [
      "Epoch 0: Test loss 1.6016613446494072\n",
      "Epoch 1: Test loss 1.5926518481251406\n",
      "Epoch 2: Test loss 1.5836979755941423\n",
      "Epoch 3: Test loss 1.5748038732178742\n",
      "Epoch 4: Test loss 1.5659735216498776\n",
      "Epoch 5: Test loss 1.5572107268283621\n",
      "Epoch 6: Test loss 1.5485191119881225\n",
      "Epoch 7: Test loss 1.5399021109136395\n",
      "Epoch 8: Test loss 1.531362962438\n",
      "Epoch 9: Test loss 1.5229047061788976\n",
      "Epoch 10: Test loss 1.5145301794896984\n",
      "Epoch 11: Test loss 1.5062420155918286\n",
      "Epoch 12: Test loss 1.4980426428419111\n",
      "Epoch 13: Test loss 1.4899342850817905\n",
      "Epoch 14: Test loss 1.4819189630057557\n",
      "Epoch 15: Test loss 1.4739984964778925\n",
      "Epoch 16: Test loss 1.466174507723804\n",
      "Epoch 17: Test loss 1.4584484253200005\n",
      "Epoch 18: Test loss 1.45082148889812\n",
      "Epoch 19: Test loss 1.4432947544844468\n",
      "Epoch 20: Test loss 1.4358691003922817\n",
      "Epoch 21: Test loss 1.4285452335863094\n",
      "Epoch 22: Test loss 1.4213236964413394\n",
      "Epoch 23: Test loss 1.4142048738197224\n",
      "Epoch 24: Test loss 1.407189000394972\n",
      "Epoch 25: Test loss 1.4002761681543725\n",
      "Epoch 26: Test loss 1.3934663340168751\n",
      "Epoch 27: Test loss 1.3867593275072736\n",
      "Epoch 28: Test loss 1.3801548584344818\n",
      "Epoch 29: Test loss 1.3736525245234428\n",
      "Epoch 30: Test loss 1.3672518189586143\n",
      "Epoch 31: Test loss 1.3609521378002984\n",
      "Epoch 32: Test loss 1.3547527872404972\n",
      "Epoch 33: Test loss 1.3486529906688869\n",
      "Epoch 34: Test loss 1.3426518955253062\n",
      "Epoch 35: Test loss 1.3367485799184495\n",
      "Epoch 36: Test loss 1.3309420589943879\n",
      "Epoch 37: Test loss 1.3252312910428796\n",
      "Epoch 38: Test loss 1.3196151833321697\n",
      "Epoch 39: Test loss 1.3140925976657345\n",
      "Epoch 40: Test loss 1.3086623556584067\n",
      "Epoch 41: Test loss 1.3033232437302227\n",
      "Epoch 42: Test loss 1.2980740178189458\n",
      "Epoch 43: Test loss 1.2929134078160283\n",
      "Epoch 44: Test loss 1.2878401217275464\n",
      "Epoch 45: Test loss 1.2828528495696068\n",
      "Epoch 46: Test loss 1.2779502670024463\n",
      "Epoch 47: Test loss 1.2731310387131611\n",
      "Epoch 48: Test loss 1.268393821554747\n",
      "Epoch 49: Test loss 1.263737267451508\n",
      "Epoch 50: Test loss 1.25916002608026\n",
      "Epoch 51: Test loss 1.2546607473376818\n",
      "Epoch 52: Test loss 1.2502380836037656\n",
      "Epoch 53: Test loss 1.2458906918117236\n",
      "Epoch 54: Test loss 1.2416172353348989\n",
      "Epoch 55: Test loss 1.237416385700839\n",
      "Epoch 56: Test loss 1.2332868241419752\n",
      "Epoch 57: Test loss 1.2292272429937001\n",
      "Epoch 58: Test loss 1.2252363469484906\n",
      "Epoch 59: Test loss 1.221312854175706\n",
      "Epoch 60: Test loss 1.2174554973159708\n",
      "Epoch 61: Test loss 1.213663024358827\n",
      "Epoch 62: Test loss 1.2099341994113515\n",
      "Epoch 63: Test loss 1.2062678033661922\n",
      "Epoch 64: Test loss 1.2026626344761706\n",
      "Epoch 65: Test loss 1.1991175088422195\n",
      "Epoch 66: Test loss 1.1956312608221813\n",
      "Epoch 67: Test loss 1.1922027433658788\n",
      "Epoch 68: Test loss 1.1888308282829891\n",
      "Epoch 69: Test loss 1.1855144064491216\n",
      "Epoch 70: Test loss 1.1822523879554845\n",
      "Epoch 71: Test loss 1.1790437022067992\n",
      "Epoch 72: Test loss 1.175887297972558\n",
      "Epoch 73: Test loss 1.1727821433953685\n",
      "Epoch 74: Test loss 1.169727225960735\n",
      "Epoch 75: Test loss 1.166721552432007\n",
      "Epoch 76: Test loss 1.1637641487539117\n",
      "Epoch 77: Test loss 1.1608540599277133\n",
      "Epoch 78: Test loss 1.1579903498613962\n",
      "Epoch 79: Test loss 1.1551721011970932\n",
      "Epoch 80: Test loss 1.1523984151187503\n",
      "Epoch 81: Test loss 1.149668411142284\n",
      "Epoch 82: Test loss 1.146981226890196\n",
      "Epoch 83: Test loss 1.1443360178527697\n",
      "Epoch 84: Test loss 1.1417319571377134\n",
      "Epoch 85: Test loss 1.1391682352099997\n",
      "Epoch 86: Test loss 1.1366440596230318\n",
      "Epoch 87: Test loss 1.1341586547430962\n",
      "Epoch 88: Test loss 1.1317112614680331\n",
      "Epoch 89: Test loss 1.1293011369413901\n",
      "Epoch 90: Test loss 1.1269275542629282\n",
      "Epoch 91: Test loss 1.1245898021969203\n",
      "Epoch 92: Test loss 1.1222871848786087\n",
      "Epoch 93: Test loss 1.1200190215197827\n",
      "Epoch 94: Test loss 1.1177846461143393\n",
      "Epoch 95: Test loss 1.115583407144355\n",
      "Epoch 96: Test loss 1.1134146672870517\n",
      "Epoch 97: Test loss 1.111277803123611\n",
      "Epoch 98: Test loss 1.1091722048498311\n",
      "Epoch 99: Test loss 1.1070972759891278\n",
      "94.31912899017334 seconds elapsed.\n"
     ]
    }
   ],
   "source": [
    "x = np.random.normal(0.0, 1.0, (10,))\n",
    "y = np.random.normal(0.0, 1.0, (2,))\n",
    "\n",
    "dnn = DNN(hidden_depth=5, num_neuron=32, num_input=10, num_output=2, activation=sigmoid)\n",
    "\n",
    "t = time.time()\n",
    "for epoch in range(100):\n",
    "    loss = gradient_descent(dnn, x, y, mean_squared_error, 0.01)\n",
    "    print('Epoch {}: Test loss {}'.format(epoch, loss))\n",
    "print('{} seconds elapsed.'.format(time.time() - t))"
   ]
  },
  {
   "cell_type": "code",
   "execution_count": null,
   "metadata": {},
   "outputs": [],
   "source": []
  }
 ],
 "metadata": {
  "kernelspec": {
   "display_name": "Python 3",
   "language": "python",
   "name": "python3"
  },
  "language_info": {
   "codemirror_mode": {
    "name": "ipython",
    "version": 3
   },
   "file_extension": ".py",
   "mimetype": "text/x-python",
   "name": "python",
   "nbconvert_exporter": "python",
   "pygments_lexer": "ipython3",
   "version": "3.7.5"
  }
 },
 "nbformat": 4,
 "nbformat_minor": 4
}
